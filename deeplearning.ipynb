{
  "nbformat": 4,
  "nbformat_minor": 0,
  "metadata": {
    "colab": {
      "name": "deeplearning.ipynb",
      "provenance": [],
      "collapsed_sections": [],
      "authorship_tag": "ABX9TyOo7z+Ao0bjMWB3CD5amVZw",
      "include_colab_link": true
    },
    "kernelspec": {
      "name": "python3",
      "display_name": "Python 3"
    },
    "language_info": {
      "name": "python"
    },
    "accelerator": "GPU"
  },
  "cells": [
    {
      "cell_type": "markdown",
      "metadata": {
        "id": "view-in-github",
        "colab_type": "text"
      },
      "source": [
        "<a href=\"https://colab.research.google.com/github/JatinderMalhi/deeplearning/blob/main/deeplearning.ipynb\" target=\"_parent\"><img src=\"https://colab.research.google.com/assets/colab-badge.svg\" alt=\"Open In Colab\"/></a>"
      ]
    },
    {
      "cell_type": "code",
      "source": [
        "#creating two tensorflow variables W and b\n",
        "class NaiveDense:\n",
        "  def __init__(self, input_size, output_size, activation):\n",
        "    self.activation = activation\n",
        "\n",
        "    w_shape = (input_size, output_size)\n",
        "    w_initial_value = tf.random.uniform(w_shape, minval = 0, maxval = 1e-1)\n",
        "    self.W = tf.Variable(w_initial_value)\n",
        "\n",
        "    b_shape = output_size\n",
        "    b_initial_value = tf.zeros(b_shape)\n",
        "    self.b = tf.Variable(b_initial_value)\n",
        "\n",
        "  def __call__(self, inputs):\n",
        "    return self.activation(tf.matmul(inputs, self.W) + self.b)\n",
        "\n",
        "  @property\n",
        "  def weights(self):\n",
        "    return [self.W, self.b]"
      ],
      "metadata": {
        "id": "ZRLWHrnO0dEN"
      },
      "execution_count": 1,
      "outputs": []
    },
    {
      "cell_type": "code",
      "execution_count": 2,
      "metadata": {
        "id": "3ZeTkRFK0WKx"
      },
      "outputs": [],
      "source": [
        "import tensorflow as  tf"
      ]
    },
    {
      "cell_type": "code",
      "source": [
        "#Sequential class to chain the layers\n",
        "class NaiveSequential:\n",
        "  def __init__(self, layers):\n",
        "    self.layers = layers\n",
        "\n",
        "  def __call__(self, inputs):\n",
        "    x = inputs\n",
        "    for layer in self.layers:\n",
        "      x = layer(x)\n",
        "    return x\n",
        "\n",
        "  @property\n",
        "  def weights(self):\n",
        "    weights = []\n",
        "    for layer in self.layers:\n",
        "      weights += layer.weights\n",
        "    return weights"
      ],
      "metadata": {
        "id": "jKRzB7Xr28sj"
      },
      "execution_count": 3,
      "outputs": []
    },
    {
      "cell_type": "code",
      "source": [
        "model = NaiveSequential([NaiveDense(input_size = 28*28, output_size = 512, activation = tf.nn.relu), \n",
        "                         NaiveDense(input_size = 512, output_size=10, activation = tf.nn.softmax)])\n",
        "assert len(model.weights) == 4"
      ],
      "metadata": {
        "id": "AhzY-7Xx5WBm"
      },
      "execution_count": 4,
      "outputs": []
    },
    {
      "cell_type": "code",
      "source": [
        "import math\n",
        "\n",
        "class BatchGenerator:\n",
        "  def __init__(self, images, labels, batch_size =128):\n",
        "    assert len(images) == len(labels)\n",
        "    self.index = 0\n",
        "    self.images = images\n",
        "    self.labels = labels\n",
        "    self.batch_size = batch_size\n",
        "    self.num_batches = math.ceil(len(images)/ batch_size)\n",
        "\n",
        "  def next(self):\n",
        "    images = self.images[self.index: self.index + self.batch_size]\n",
        "    labels = self.labels[self.index: self.index + self.batch_size]\n",
        "    self.index+=self.batch_size\n",
        "    return images, labels"
      ],
      "metadata": {
        "id": "csfsWJFF52oa"
      },
      "execution_count": 5,
      "outputs": []
    },
    {
      "cell_type": "code",
      "source": [
        "#computing gradient descent\n",
        "from tensorflow.keras import optimizers\n",
        "\n",
        "optimizer = optimizers.SGD(learning_rate = 1e-3)\n",
        "\n",
        "def update_weights(gradients, weights):\n",
        "  optimizer.apply_gradients(zip(gradients, weights))\n",
        "\n",
        "def one_training_step(model, images_batch, labels_batch):\n",
        "  with tf.GradientTape() as tape:\n",
        "    predictions = model(images_batch)\n",
        "    per_sample_losses = tf.keras.losses.sparse_categorical_crossentropy(labels_batch, predictions)\n",
        "    average_loss = tf.reduce_mean(per_sample_losses)\n",
        "  gradients = tape.gradient(average_loss, model.weights)\n",
        "  update_weights(gradients, model.weights)\n",
        "  return average_loss"
      ],
      "metadata": {
        "id": "X03cIXDm7_zT"
      },
      "execution_count": 6,
      "outputs": []
    },
    {
      "cell_type": "code",
      "source": [
        "#full training loop\n",
        "def fit(model, images, labels, epochs, batch_size =128):\n",
        "  for epoch_counter in range(epochs):\n",
        "    print(f\"Epoch {epoch_counter} \")\n",
        "  \n",
        "  batch_generator = BatchGenerator(images, labels)\n",
        "\n",
        "  for batch_counter in range(batch_generator.num_batches):\n",
        "    images_batch, labels_batch = batch_generator.next()\n",
        "    loss = one_training_step(model, images_batch, labels_batch)\n",
        "    if batch_counter % 100 ==0:\n",
        "      print(f\"loss at batch {batch_counter} : {loss: .2f} \")"
      ],
      "metadata": {
        "id": "CD5paLYH_uq_"
      },
      "execution_count": 7,
      "outputs": []
    },
    {
      "cell_type": "code",
      "source": [
        "from tensorflow.keras.datasets import mnist\n",
        "(train_images, train_labels), (test_images, test_labels) = mnist.load_data()\n",
        "\n",
        "train_images = train_images.reshape((60000, 28*28))\n",
        "train_images = train_images.astype('float32')/255\n",
        "test_images =test_images.reshape((10000, 28*28))\n",
        "test_labels = test_images.astype('float32')/255\n",
        "\n",
        "fit(model, train_images, train_labels, epochs =10, batch_size =128)"
      ],
      "metadata": {
        "colab": {
          "base_uri": "https://localhost:8080/"
        },
        "id": "lXWPccAFEGMc",
        "outputId": "b6e757f7-2dfe-4ba4-c496-6f6bffe05229"
      },
      "execution_count": 8,
      "outputs": [
        {
          "output_type": "stream",
          "name": "stdout",
          "text": [
            "Downloading data from https://storage.googleapis.com/tensorflow/tf-keras-datasets/mnist.npz\n",
            "11493376/11490434 [==============================] - 0s 0us/step\n",
            "11501568/11490434 [==============================] - 0s 0us/step\n",
            "Epoch 0 \n",
            "Epoch 1 \n",
            "Epoch 2 \n",
            "Epoch 3 \n",
            "Epoch 4 \n",
            "Epoch 5 \n",
            "Epoch 6 \n",
            "Epoch 7 \n",
            "Epoch 8 \n",
            "Epoch 9 \n",
            "loss at batch 0 :  7.04 \n",
            "loss at batch 100 :  2.24 \n",
            "loss at batch 200 :  2.18 \n",
            "loss at batch 300 :  2.08 \n",
            "loss at batch 400 :  2.21 \n"
          ]
        }
      ]
    },
    {
      "cell_type": "code",
      "source": [
        "x = tf.random.normal(shape = (3, 1), mean = 0, stddev = 1)\n",
        "print(x)"
      ],
      "metadata": {
        "id": "IFZvTdjfGY3J",
        "colab": {
          "base_uri": "https://localhost:8080/"
        },
        "outputId": "5a201363-ae75-437e-eaad-1ee86c931b23"
      },
      "execution_count": 9,
      "outputs": [
        {
          "output_type": "stream",
          "name": "stdout",
          "text": [
            "tf.Tensor(\n",
            "[[0.4545245 ]\n",
            " [0.6422433 ]\n",
            " [0.79451174]], shape=(3, 1), dtype=float32)\n"
          ]
        }
      ]
    },
    {
      "cell_type": "code",
      "source": [
        "x = tf.random.uniform(shape = (3, 1), minval = 0, maxval = 1)\n",
        "print(x)"
      ],
      "metadata": {
        "colab": {
          "base_uri": "https://localhost:8080/"
        },
        "id": "79yT-vjP8Cs2",
        "outputId": "5d00dc63-a0ab-4ca6-e463-3a0a9b3a04a8"
      },
      "execution_count": 10,
      "outputs": [
        {
          "output_type": "stream",
          "name": "stdout",
          "text": [
            "tf.Tensor(\n",
            "[[0.1724447 ]\n",
            " [0.11242902]\n",
            " [0.39389837]], shape=(3, 1), dtype=float32)\n"
          ]
        }
      ]
    },
    {
      "cell_type": "code",
      "source": [
        "v = tf.Variable(initial_value=tf.random.normal(shape = (3,1)))\n",
        "print(v)"
      ],
      "metadata": {
        "colab": {
          "base_uri": "https://localhost:8080/"
        },
        "id": "PdD6eT588lH0",
        "outputId": "fbad3ad6-fd82-4167-aa08-d35664f9f017"
      },
      "execution_count": 11,
      "outputs": [
        {
          "output_type": "stream",
          "name": "stdout",
          "text": [
            "<tf.Variable 'Variable:0' shape=(3, 1) dtype=float32, numpy=\n",
            "array([[-1.1341358 ],\n",
            "       [-0.09547807],\n",
            "       [ 0.9430152 ]], dtype=float32)>\n"
          ]
        }
      ]
    },
    {
      "cell_type": "code",
      "source": [
        "v.assign(tf.ones((3,1)))"
      ],
      "metadata": {
        "colab": {
          "base_uri": "https://localhost:8080/"
        },
        "id": "wPb2chOt9Qe5",
        "outputId": "3895f73b-1322-4a34-bd9c-3a7f1539d70d"
      },
      "execution_count": 12,
      "outputs": [
        {
          "output_type": "execute_result",
          "data": {
            "text/plain": [
              "<tf.Variable 'UnreadVariable' shape=(3, 1) dtype=float32, numpy=\n",
              "array([[1.],\n",
              "       [1.],\n",
              "       [1.]], dtype=float32)>"
            ]
          },
          "metadata": {},
          "execution_count": 12
        }
      ]
    },
    {
      "cell_type": "code",
      "source": [
        "input_const = tf.constant(3.)\n",
        "with tf.GradientTape() as tape:\n",
        "  tape.watch(input_const)\n",
        "  result = tf.square(input_const)\n",
        "gradient = tape.gradient(result, input_const)"
      ],
      "metadata": {
        "id": "UC4nFK4T9Vkc"
      },
      "execution_count": 13,
      "outputs": []
    },
    {
      "cell_type": "code",
      "source": [
        "import numpy as np"
      ],
      "metadata": {
        "id": "S5gwuu2KggqF"
      },
      "execution_count": 14,
      "outputs": []
    },
    {
      "cell_type": "code",
      "source": [
        "num_samples_per_class = 1000\n",
        "negative_samples = np.random.multivariate_normal(mean = [0, 3],\n",
        "                                                 cov = [[1, 0.5], [0.5, 1]],\n",
        "                                                 size = num_samples_per_class)\n",
        "\n",
        "positive_samples =np.random.multivariate_normal(mean = [3, 0],\n",
        "                                                cov = [[1, 0.5], [0.5, 1]],\n",
        "                                                size = num_samples_per_class)\n"
      ],
      "metadata": {
        "id": "sc2qg2pBg4IN"
      },
      "execution_count": 15,
      "outputs": []
    },
    {
      "cell_type": "code",
      "source": [
        "#stacking two classes\n",
        "inputs = np.vstack((negative_samples, positive_samples)).astype(np.float32)"
      ],
      "metadata": {
        "id": "jCRMYQOih4Yl"
      },
      "execution_count": 16,
      "outputs": []
    },
    {
      "cell_type": "code",
      "source": [
        "targets = np.vstack((np.zeros((num_samples_per_class, 1), dtype='float32'),\n",
        "                     np.ones((num_samples_per_class, 1), dtype='float32')))"
      ],
      "metadata": {
        "id": "MjkHrlgairpw"
      },
      "execution_count": 17,
      "outputs": []
    },
    {
      "cell_type": "code",
      "source": [
        "import matplotlib.pyplot as plt"
      ],
      "metadata": {
        "id": "dXljpzoIjSUE"
      },
      "execution_count": 18,
      "outputs": []
    },
    {
      "cell_type": "code",
      "source": [
        "plt.scatter(inputs[:, 0], inputs[:, 1], c = targets[:, 0])\n",
        "plt.show()"
      ],
      "metadata": {
        "colab": {
          "base_uri": "https://localhost:8080/",
          "height": 265
        },
        "id": "fT8HbVikjXYk",
        "outputId": "08410fa4-a56d-456b-93d4-ee7794d01d60"
      },
      "execution_count": 19,
      "outputs": [
        {
          "output_type": "display_data",
          "data": {
            "image/png": "[encoded data removed]",
            "text/plain": [
              "<Figure size 432x288 with 1 Axes>"
            ]
          },
          "metadata": {
            "needs_background": "light"
          }
        }
      ]
    },
    {
      "cell_type": "code",
      "source": [
        "input_dim = 2\n",
        "output_dim = 1\n",
        "W = tf.Variable(initial_value = tf.random.uniform(shape = (input_dim, output_dim)))\n",
        "b = tf.Variable(initial_value = tf.zeros(shape = (output_dim)))"
      ],
      "metadata": {
        "id": "w6viAB06kDUV"
      },
      "execution_count": 20,
      "outputs": []
    },
    {
      "cell_type": "code",
      "source": [
        "def model(inputs):\n",
        "  return tf.matmul(inputs, W) + b"
      ],
      "metadata": {
        "id": "DSXyJ5WnlcBG"
      },
      "execution_count": 21,
      "outputs": []
    },
    {
      "cell_type": "code",
      "source": [
        "def square_loss(targets, predictions):\n",
        "  per_sample_losses = tf.square(targets - predictions)\n",
        "  return  tf.reduce_mean(per_sample_losses)"
      ],
      "metadata": {
        "id": "yNy5mInFl4aB"
      },
      "execution_count": 22,
      "outputs": []
    },
    {
      "cell_type": "code",
      "source": [
        "learning_rate = 0.1\n",
        "def training_step(inputs, targets):\n",
        "  with tf.GradientTape() as tape:\n",
        "    predictions = model(inputs)\n",
        "    loss = square_loss(predictions, targets)\n",
        "  grad_loss_wrt_W, grad_loss_wrt_b = tape.gradient(loss, [W, b])\n",
        "  W.assign_sub(grad_loss_wrt_W * learning_rate)\n",
        "  b.assign_sub(grad_loss_wrt_b * learning_rate)\n",
        "  return loss\n",
        "\n"
      ],
      "metadata": {
        "id": "kTmlqD9rmlPF"
      },
      "execution_count": 23,
      "outputs": []
    },
    {
      "cell_type": "code",
      "source": [
        "#batch training\n",
        "for step in range(40):\n",
        "  loss = training_step(inputs, targets)\n",
        "  print(f\"Loss at step {step}: {loss:.4f}\")"
      ],
      "metadata": {
        "colab": {
          "base_uri": "https://localhost:8080/"
        },
        "id": "DJMbCiMMoQTL",
        "outputId": "d4932d67-f142-432d-f8e0-9b3af567a518"
      },
      "execution_count": 24,
      "outputs": [
        {
          "output_type": "stream",
          "name": "stdout",
          "text": [
            "Loss at step 0: 0.3699\n",
            "Loss at step 1: 0.0945\n",
            "Loss at step 2: 0.0844\n",
            "Loss at step 3: 0.0788\n",
            "Loss at step 4: 0.0742\n",
            "Loss at step 5: 0.0700\n",
            "Loss at step 6: 0.0661\n",
            "Loss at step 7: 0.0626\n",
            "Loss at step 8: 0.0594\n",
            "Loss at step 9: 0.0565\n",
            "Loss at step 10: 0.0538\n",
            "Loss at step 11: 0.0513\n",
            "Loss at step 12: 0.0491\n",
            "Loss at step 13: 0.0470\n",
            "Loss at step 14: 0.0451\n",
            "Loss at step 15: 0.0434\n",
            "Loss at step 16: 0.0418\n",
            "Loss at step 17: 0.0404\n",
            "Loss at step 18: 0.0390\n",
            "Loss at step 19: 0.0378\n",
            "Loss at step 20: 0.0367\n",
            "Loss at step 21: 0.0357\n",
            "Loss at step 22: 0.0348\n",
            "Loss at step 23: 0.0339\n",
            "Loss at step 24: 0.0331\n",
            "Loss at step 25: 0.0324\n",
            "Loss at step 26: 0.0318\n",
            "Loss at step 27: 0.0312\n",
            "Loss at step 28: 0.0306\n",
            "Loss at step 29: 0.0301\n",
            "Loss at step 30: 0.0297\n",
            "Loss at step 31: 0.0293\n",
            "Loss at step 32: 0.0289\n",
            "Loss at step 33: 0.0285\n",
            "Loss at step 34: 0.0282\n",
            "Loss at step 35: 0.0279\n",
            "Loss at step 36: 0.0276\n",
            "Loss at step 37: 0.0274\n",
            "Loss at step 38: 0.0272\n",
            "Loss at step 39: 0.0270\n"
          ]
        }
      ]
    },
    {
      "cell_type": "code",
      "source": [
        "predictions = model(inputs)\n",
        "plt.scatter(inputs[:, 0], inputs[:, 1], c = predictions[:, 0] > 0.5)\n",
        "plt.show()"
      ],
      "metadata": {
        "colab": {
          "base_uri": "https://localhost:8080/",
          "height": 265
        },
        "id": "oTqoCLUyo4Oz",
        "outputId": "8bfdeff3-97ea-4d48-aebd-1899a156c8c7"
      },
      "execution_count": 25,
      "outputs": [
        {
          "output_type": "display_data",
          "data": {
            "image/png": "[encoded data removed]",
            "text/plain": [
              "<Figure size 432x288 with 1 Axes>"
            ]
          },
          "metadata": {
            "needs_background": "light"
          }
        }
      ]
    },
    {
      "cell_type": "code",
      "source": [
        "x = np.linspace(-1, 4, 100)\n",
        "y = -W[0]/W[1] * x + (0.5 -b)/W[1]\n",
        "plt.plot(x, y, \"-r\")\n",
        "plt.scatter(inputs[:, 0], inputs[:, 1], c = predictions[:, 0] > 0.5)"
      ],
      "metadata": {
        "colab": {
          "base_uri": "https://localhost:8080/",
          "height": 283
        },
        "id": "zlYIwTd_p1yn",
        "outputId": "df4c3381-9ea9-4d91-88c9-3eae8ebdfd99"
      },
      "execution_count": 26,
      "outputs": [
        {
          "output_type": "execute_result",
          "data": {
            "text/plain": [
              "<matplotlib.collections.PathCollection at 0x7fcc506f75d0>"
            ]
          },
          "metadata": {},
          "execution_count": 26
        },
        {
          "output_type": "display_data",
          "data": {
            "image/png": "[encoded data removed]",
            "text/plain": [
              "<Figure size 432x288 with 1 Axes>"
            ]
          },
          "metadata": {
            "needs_background": "light"
          }
        }
      ]
    },
    {
      "cell_type": "code",
      "source": [
        "from tensorflow import keras"
      ],
      "metadata": {
        "id": "VJ5DZ41JuqWT"
      },
      "execution_count": 27,
      "outputs": []
    },
    {
      "cell_type": "code",
      "source": [
        "from tensorflow.python.ops.init_ops_v2 import Initializer\n",
        "class SimpleDense(keras.layers.Layer):\n",
        "  def __init__(self, units, activation = None):\n",
        "      super().__init__()\n",
        "      self.units = units\n",
        "      self.activation = activation\n",
        "  \n",
        "  def build(self, input_shape):\n",
        "    input_dim = input_shape[-1]\n",
        "    self.W = self.add_weight(shape = (input_dim, self.units),\n",
        "                             initializer = 'random_normal')\n",
        "    self.b = self.add_weight(shape = (self.units), initializer = 'zeros')\n",
        "  \n",
        "  def call(self, inputs):\n",
        "    y = tf.matmul(inputs, self.W) + self.b\n",
        "    if self.activation is not None:\n",
        "      y = self.activation(y)\n",
        "    return y"
      ],
      "metadata": {
        "id": "gOy7rkgEC97g"
      },
      "execution_count": 28,
      "outputs": []
    },
    {
      "cell_type": "code",
      "source": [
        "my_dense = SimpleDense(units = 32, activation = tf.nn.relu)\n",
        "input_tensor = tf.ones(shape = (2, 784))\n",
        "output_tensor = my_dense(input_tensor) \n",
        "print(output_tensor)"
      ],
      "metadata": {
        "colab": {
          "base_uri": "https://localhost:8080/"
        },
        "id": "nHpKwNeZFBd4",
        "outputId": "712121e0-f378-4a3e-aad5-22d23222e603"
      },
      "execution_count": 29,
      "outputs": [
        {
          "output_type": "stream",
          "name": "stdout",
          "text": [
            "tf.Tensor(\n",
            "[[0.         0.45127887 0.         0.3750459  0.         0.\n",
            "  0.         0.20964661 0.50851357 1.3107678  0.         0.\n",
            "  0.44862038 0.         0.         0.         0.         0.64535296\n",
            "  0.         0.         0.         0.         0.5715425  0.69268596\n",
            "  4.2268596  0.4465267  0.         0.         0.7015892  0.1885541\n",
            "  0.         0.        ]\n",
            " [0.         0.45127887 0.         0.3750459  0.         0.\n",
            "  0.         0.20964661 0.50851357 1.3107678  0.         0.\n",
            "  0.44862038 0.         0.         0.         0.         0.64535296\n",
            "  0.         0.         0.         0.         0.5715425  0.69268596\n",
            "  4.2268596  0.4465267  0.         0.         0.7015892  0.1885541\n",
            "  0.         0.        ]], shape=(2, 32), dtype=float32)\n"
          ]
        }
      ]
    },
    {
      "cell_type": "code",
      "source": [
        "model = keras.Sequential([keras.layers.Dense(1)])\n"
      ],
      "metadata": {
        "id": "3Jk1dtB0FfkB"
      },
      "execution_count": 30,
      "outputs": []
    },
    {
      "cell_type": "code",
      "source": [
        "model.compile(optimizer = keras.optimizers.RMSprop(learning_rate = 0.1), \n",
        "              loss = keras.losses.MeanSquaredError(),\n",
        "              metrics = [keras.metrics.BinaryAccuracy()])\n",
        "indices_permutation = np.random.permutation(len(inputs))\n",
        "shuffled_inputs = inputs[indices_permutation]\n",
        "shuffled_targets = targets[indices_permutation]\n",
        "\n",
        "num_validation_samples = int(0.3 * len(inputs))\n",
        "val_inputs = shuffled_inputs[:num_validation_samples]\n",
        "val_targets = shuffled_targets[:num_validation_samples]\n",
        "training_inputs = shuffled_inputs[num_validation_samples:]\n",
        "training_targets = shuffled_targets[num_validation_samples:]\n",
        "\n",
        "model.fit(\n",
        "    training_inputs,\n",
        "    training_targets,\n",
        "    epochs = 5,\n",
        "    batch_size = 16,\n",
        "    validation_data = (val_inputs, val_targets)\n",
        ")"
      ],
      "metadata": {
        "colab": {
          "base_uri": "https://localhost:8080/"
        },
        "id": "dUouzp-WXUAs",
        "outputId": "608374a7-9aee-4416-f490-973a85930d90"
      },
      "execution_count": 31,
      "outputs": [
        {
          "output_type": "stream",
          "name": "stdout",
          "text": [
            "Epoch 1/5\n",
            "88/88 [==============================] - 3s 14ms/step - loss: 0.2958 - binary_accuracy: 0.9107 - val_loss: 0.0248 - val_binary_accuracy: 1.0000\n",
            "Epoch 2/5\n",
            "88/88 [==============================] - 1s 10ms/step - loss: 0.0734 - binary_accuracy: 0.9550 - val_loss: 0.0922 - val_binary_accuracy: 0.9500\n",
            "Epoch 3/5\n",
            "88/88 [==============================] - 1s 8ms/step - loss: 0.0779 - binary_accuracy: 0.9500 - val_loss: 0.0597 - val_binary_accuracy: 0.9917\n",
            "Epoch 4/5\n",
            "88/88 [==============================] - 1s 8ms/step - loss: 0.0632 - binary_accuracy: 0.9686 - val_loss: 0.0939 - val_binary_accuracy: 0.9017\n",
            "Epoch 5/5\n",
            "88/88 [==============================] - 1s 10ms/step - loss: 0.0722 - binary_accuracy: 0.9586 - val_loss: 0.1132 - val_binary_accuracy: 0.9217\n"
          ]
        },
        {
          "output_type": "execute_result",
          "data": {
            "text/plain": [
              "<keras.callbacks.History at 0x7fcbd8a381d0>"
            ]
          },
          "metadata": {},
          "execution_count": 31
        }
      ]
    },
    {
      "cell_type": "code",
      "source": [
        "#Binary classificatin movie reviews\n",
        "from tensorflow.keras.datasets import imdb\n",
        "(train_data, train_labels),(test_data, test_labels) = imdb.load_data(num_words = 10000)"
      ],
      "metadata": {
        "colab": {
          "base_uri": "https://localhost:8080/"
        },
        "id": "gnIDXhupXbAl",
        "outputId": "c6d11e5a-5e24-4db1-81aa-a5e9bff5a3ed"
      },
      "execution_count": 32,
      "outputs": [
        {
          "output_type": "stream",
          "name": "stdout",
          "text": [
            "Downloading data from https://storage.googleapis.com/tensorflow/tf-keras-datasets/imdb.npz\n",
            "17465344/17464789 [==============================] - 0s 0us/step\n",
            "17473536/17464789 [==============================] - 0s 0us/step\n"
          ]
        }
      ]
    },
    {
      "cell_type": "code",
      "source": [
        "max([max(sequence) for sequence in train_data])"
      ],
      "metadata": {
        "colab": {
          "base_uri": "https://localhost:8080/"
        },
        "id": "xm285usCkmaV",
        "outputId": "82dc366e-1ff7-4a5a-af79-f394801e0b63"
      },
      "execution_count": 33,
      "outputs": [
        {
          "output_type": "execute_result",
          "data": {
            "text/plain": [
              "9999"
            ]
          },
          "metadata": {},
          "execution_count": 33
        }
      ]
    },
    {
      "cell_type": "code",
      "source": [
        "#decoding reviews back to text\n",
        "word_index = imdb.get_word_index()\n",
        "reversed_word_index = dict([(value, key) for (key, value) in word_index.items()])\n",
        "decoded_review = \" \".join([reversed_word_index.get(i - 3, \"?\") for i in train_data[0]])"
      ],
      "metadata": {
        "id": "GvaIYsUzldv_",
        "colab": {
          "base_uri": "https://localhost:8080/"
        },
        "outputId": "98ff067e-ea84-440a-e459-a71ee6ad41f0"
      },
      "execution_count": 34,
      "outputs": [
        {
          "output_type": "stream",
          "name": "stdout",
          "text": [
            "Downloading data from https://storage.googleapis.com/tensorflow/tf-keras-datasets/imdb_word_index.json\n",
            "1646592/1641221 [==============================] - 0s 0us/step\n",
            "1654784/1641221 [==============================] - 0s 0us/step\n"
          ]
        }
      ]
    },
    {
      "cell_type": "code",
      "source": [
        "def vectorize_sequences(sequences, dimension = 10000):\n",
        "  results = np.zeros((len(sequences), dimension)) #creating an all-zero matrix\n",
        "  for i, sequence in enumerate(sequences):\n",
        "    for j in sequence:\n",
        "      results[i, j] = 1 #sets specific indices of resuls[i] to 1s\n",
        "  return results\n",
        "\n",
        "#vectorize training data and test data\n",
        "x_train = vectorize_sequences(train_data)\n",
        "x_test = vectorize_sequences(test_data)\n",
        "x_train[0]\n"
      ],
      "metadata": {
        "colab": {
          "base_uri": "https://localhost:8080/"
        },
        "id": "qj1-trabPUgs",
        "outputId": "9bc15e7b-a3f7-4a3d-a398-945849376c73"
      },
      "execution_count": 36,
      "outputs": [
        {
          "output_type": "execute_result",
          "data": {
            "text/plain": [
              "array([0., 1., 1., ..., 0., 0., 0.])"
            ]
          },
          "metadata": {},
          "execution_count": 36
        }
      ]
    },
    {
      "cell_type": "code",
      "source": [
        "#vectorizing labels\n",
        "y_train = np.asarray(train_labels).astype('float32')\n",
        "y_test =np.asarray(test_labels).astype('float32')"
      ],
      "metadata": {
        "id": "3QtM9WVSWcff"
      },
      "execution_count": 37,
      "outputs": []
    },
    {
      "cell_type": "code",
      "source": [
        "from tensorflow.keras import layers\n",
        "model = keras.Sequential([\n",
        "                          layers.Dense(16, activation = 'relu'),\n",
        "                          layers.Dense(16, activation = 'relu'),\n",
        "                          layers.Dense(1, activation = 'sigmoid')\n",
        "])"
      ],
      "metadata": {
        "id": "cvdVRKPCW-m-"
      },
      "execution_count": 38,
      "outputs": []
    },
    {
      "cell_type": "code",
      "source": [
        "model.compile(optimizer = 'rmsprop',\n",
        "              loss = 'binary_crossentropy',\n",
        "              metrics = ['accuracy'])"
      ],
      "metadata": {
        "id": "KWsrE7V6ei3U"
      },
      "execution_count": 39,
      "outputs": []
    },
    {
      "cell_type": "code",
      "source": [
        "#setting aside validation set\n",
        "x_val = x_train[:10000]\n",
        "partial_x_train = x_train[10000:]\n",
        "y_val = y_train[:10000]\n",
        "partial_y_train = y_train[10000:]"
      ],
      "metadata": {
        "id": "5kBM3QjPe2Mt"
      },
      "execution_count": 41,
      "outputs": []
    },
    {
      "cell_type": "code",
      "source": [
        "history = model.fit(partial_x_train,\n",
        "                    partial_y_train,\n",
        "                    epochs = 20,\n",
        "                    batch_size = 512,\n",
        "                    validation_data = (x_val, y_val))"
      ],
      "metadata": {
        "colab": {
          "base_uri": "https://localhost:8080/"
        },
        "id": "6CCB9zplf3SC",
        "outputId": "a6caa915-41f1-41d7-c2d8-f65734b5f79a"
      },
      "execution_count": 42,
      "outputs": [
        {
          "output_type": "stream",
          "name": "stdout",
          "text": [
            "Epoch 1/20\n",
            "30/30 [==============================] - 3s 55ms/step - loss: 0.5632 - accuracy: 0.7512 - val_loss: 0.4473 - val_accuracy: 0.8631\n",
            "Epoch 2/20\n",
            "30/30 [==============================] - 1s 29ms/step - loss: 0.3558 - accuracy: 0.8981 - val_loss: 0.3315 - val_accuracy: 0.8859\n",
            "Epoch 3/20\n",
            "30/30 [==============================] - 1s 33ms/step - loss: 0.2495 - accuracy: 0.9232 - val_loss: 0.2875 - val_accuracy: 0.8905\n",
            "Epoch 4/20\n",
            "30/30 [==============================] - 1s 31ms/step - loss: 0.1894 - accuracy: 0.9406 - val_loss: 0.2831 - val_accuracy: 0.8867\n",
            "Epoch 5/20\n",
            "30/30 [==============================] - 1s 31ms/step - loss: 0.1511 - accuracy: 0.9547 - val_loss: 0.2886 - val_accuracy: 0.8848\n",
            "Epoch 6/20\n",
            "30/30 [==============================] - 1s 31ms/step - loss: 0.1229 - accuracy: 0.9641 - val_loss: 0.3364 - val_accuracy: 0.8718\n",
            "Epoch 7/20\n",
            "30/30 [==============================] - 1s 29ms/step - loss: 0.1019 - accuracy: 0.9701 - val_loss: 0.3107 - val_accuracy: 0.8825\n",
            "Epoch 8/20\n",
            "30/30 [==============================] - 1s 36ms/step - loss: 0.0816 - accuracy: 0.9782 - val_loss: 0.3333 - val_accuracy: 0.8778\n",
            "Epoch 9/20\n",
            "30/30 [==============================] - 1s 35ms/step - loss: 0.0704 - accuracy: 0.9818 - val_loss: 0.3535 - val_accuracy: 0.8785\n",
            "Epoch 10/20\n",
            "30/30 [==============================] - 1s 25ms/step - loss: 0.0551 - accuracy: 0.9871 - val_loss: 0.3763 - val_accuracy: 0.8783\n",
            "Epoch 11/20\n",
            "30/30 [==============================] - 1s 24ms/step - loss: 0.0457 - accuracy: 0.9896 - val_loss: 0.4030 - val_accuracy: 0.8756\n",
            "Epoch 12/20\n",
            "30/30 [==============================] - 1s 27ms/step - loss: 0.0364 - accuracy: 0.9929 - val_loss: 0.4331 - val_accuracy: 0.8749\n",
            "Epoch 13/20\n",
            "30/30 [==============================] - 1s 25ms/step - loss: 0.0274 - accuracy: 0.9949 - val_loss: 0.4602 - val_accuracy: 0.8735\n",
            "Epoch 14/20\n",
            "30/30 [==============================] - 1s 26ms/step - loss: 0.0236 - accuracy: 0.9953 - val_loss: 0.4986 - val_accuracy: 0.8727\n",
            "Epoch 15/20\n",
            "30/30 [==============================] - 1s 26ms/step - loss: 0.0187 - accuracy: 0.9963 - val_loss: 0.5257 - val_accuracy: 0.8718\n",
            "Epoch 16/20\n",
            "30/30 [==============================] - 1s 27ms/step - loss: 0.0116 - accuracy: 0.9988 - val_loss: 0.5729 - val_accuracy: 0.8662\n",
            "Epoch 17/20\n",
            "30/30 [==============================] - 1s 23ms/step - loss: 0.0129 - accuracy: 0.9977 - val_loss: 0.6003 - val_accuracy: 0.8695\n",
            "Epoch 18/20\n",
            "30/30 [==============================] - 1s 24ms/step - loss: 0.0064 - accuracy: 0.9998 - val_loss: 0.8147 - val_accuracy: 0.8460\n",
            "Epoch 19/20\n",
            "30/30 [==============================] - 1s 27ms/step - loss: 0.0059 - accuracy: 0.9997 - val_loss: 0.6830 - val_accuracy: 0.8655\n",
            "Epoch 20/20\n",
            "30/30 [==============================] - 1s 26ms/step - loss: 0.0075 - accuracy: 0.9985 - val_loss: 0.6980 - val_accuracy: 0.8669\n"
          ]
        }
      ]
    },
    {
      "cell_type": "code",
      "source": [
        "#history, which is a dictionary containing data about everything\n",
        "#that happened during training\n",
        "history_dict = history.history\n",
        "history_dict.keys()"
      ],
      "metadata": {
        "colab": {
          "base_uri": "https://localhost:8080/"
        },
        "id": "N6j35MVogePU",
        "outputId": "0aab4272-9576-459a-efd5-0be293afc9d1"
      },
      "execution_count": 43,
      "outputs": [
        {
          "output_type": "execute_result",
          "data": {
            "text/plain": [
              "dict_keys(['loss', 'accuracy', 'val_loss', 'val_accuracy'])"
            ]
          },
          "metadata": {},
          "execution_count": 43
        }
      ]
    },
    {
      "cell_type": "code",
      "source": [
        "loss_values = history_dict['loss']\n",
        "val_loss_values = history_dict['val_loss']\n",
        "epochs = range(1, len(loss_values) + 1)\n",
        "plt.plot(epochs, loss_values, 'bo', label = 'Traininin Loss')\n",
        "plt.plot(epochs, val_loss_values, 'b', label = 'Validation Loss')\n",
        "plt.title('Training  and Validation Loss')\n",
        "plt.xlabel(\"Epochs\")\n",
        "plt.ylabel('Loss')\n",
        "plt.legend()\n",
        "plt.show()"
      ],
      "metadata": {
        "colab": {
          "base_uri": "https://localhost:8080/",
          "height": 295
        },
        "id": "B9tCGo9PgzrS",
        "outputId": "77c55997-d097-4cab-dc9e-3fa30b540e45"
      },
      "execution_count": 44,
      "outputs": [
        {
          "output_type": "display_data",
          "data": {
            "image/png": "[encoded data removed]",
            "text/plain": [
              "<Figure size 432x288 with 1 Axes>"
            ]
          },
          "metadata": {
            "needs_background": "light"
          }
        }
      ]
    },
    {
      "cell_type": "code",
      "source": [
        "acc = history_dict['accuracy']\n",
        "val_acc = history_dict['val_accuracy']\n",
        "plt.plot(epochs, acc, 'bo', label = 'Training Accuracy')\n",
        "plt.plot(epochs, val_acc, 'b', label = 'Validation Accuracy')\n",
        "plt.title('Accuracy and Validation Accuracy')\n",
        "plt.xlabel('Epochs')\n",
        "plt.ylabel('Accuracy')\n",
        "plt.legend()\n",
        "plt.show()"
      ],
      "metadata": {
        "colab": {
          "base_uri": "https://localhost:8080/",
          "height": 295
        },
        "id": "lmKdacifiR23",
        "outputId": "daea82e0-4a0c-4131-ca98-981585b9c61a"
      },
      "execution_count": 46,
      "outputs": [
        {
          "output_type": "display_data",
          "data": {
            "image/png": "[encoded data removed]",
            "text/plain": [
              "<Figure size 432x288 with 1 Axes>"
            ]
          },
          "metadata": {
            "needs_background": "light"
          }
        }
      ]
    },
    {
      "cell_type": "code",
      "source": [
        ""
      ],
      "metadata": {
        "id": "iKKZu1JdjcaJ"
      },
      "execution_count": null,
      "outputs": []
    }
  ]
}